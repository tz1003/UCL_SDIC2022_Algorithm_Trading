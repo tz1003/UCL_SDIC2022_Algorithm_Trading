{
 "cells": [
  {
   "cell_type": "code",
   "execution_count": 1,
   "id": "38adc5b7",
   "metadata": {},
   "outputs": [],
   "source": [
    "%matplotlib inline\n",
    "import numpy as np\n",
    "import pandas as pd\n",
    "import matplotlib\n",
    "import matplotlib.pyplot as plt\n",
    "import matplotlib.pylab as pylab\n",
    "\n",
    "params = {'legend.fontsize': 'xx-large',\n",
    "          'figure.figsize': (15, 10),\n",
    "         'axes.labelsize': 'xx-large',\n",
    "         'axes.titlesize':'xx-large',\n",
    "         'xtick.labelsize':'xx-large',\n",
    "         'ytick.labelsize':'xx-large'}\n",
    "pylab.rcParams.update(params)"
   ]
  },
  {
   "cell_type": "markdown",
   "id": "30732469",
   "metadata": {},
   "source": [
    "# Basic Time Series Model"
   ]
  },
  {
   "cell_type": "markdown",
   "id": "ff02e244",
   "metadata": {},
   "source": [
    "## Oil Price Data Processing"
   ]
  },
  {
   "cell_type": "code",
   "execution_count": 2,
   "id": "11a15923",
   "metadata": {},
   "outputs": [
    {
     "data": {
      "text/html": [
       "<div>\n",
       "<style scoped>\n",
       "    .dataframe tbody tr th:only-of-type {\n",
       "        vertical-align: middle;\n",
       "    }\n",
       "\n",
       "    .dataframe tbody tr th {\n",
       "        vertical-align: top;\n",
       "    }\n",
       "\n",
       "    .dataframe thead th {\n",
       "        text-align: right;\n",
       "    }\n",
       "</style>\n",
       "<table border=\"1\" class=\"dataframe\">\n",
       "  <thead>\n",
       "    <tr style=\"text-align: right;\">\n",
       "      <th></th>\n",
       "      <th>DATE</th>\n",
       "      <th>DCOILWTICO</th>\n",
       "    </tr>\n",
       "  </thead>\n",
       "  <tbody>\n",
       "    <tr>\n",
       "      <th>0</th>\n",
       "      <td>2020-04-21</td>\n",
       "      <td>8.91</td>\n",
       "    </tr>\n",
       "    <tr>\n",
       "      <th>1</th>\n",
       "      <td>2020-04-22</td>\n",
       "      <td>13.64</td>\n",
       "    </tr>\n",
       "    <tr>\n",
       "      <th>2</th>\n",
       "      <td>2020-04-23</td>\n",
       "      <td>15.06</td>\n",
       "    </tr>\n",
       "    <tr>\n",
       "      <th>3</th>\n",
       "      <td>2020-04-24</td>\n",
       "      <td>15.99</td>\n",
       "    </tr>\n",
       "    <tr>\n",
       "      <th>4</th>\n",
       "      <td>2020-04-27</td>\n",
       "      <td>12.17</td>\n",
       "    </tr>\n",
       "  </tbody>\n",
       "</table>\n",
       "</div>"
      ],
      "text/plain": [
       "         DATE DCOILWTICO\n",
       "0  2020-04-21       8.91\n",
       "1  2020-04-22      13.64\n",
       "2  2020-04-23      15.06\n",
       "3  2020-04-24      15.99\n",
       "4  2020-04-27      12.17"
      ]
     },
     "execution_count": 2,
     "metadata": {},
     "output_type": "execute_result"
    }
   ],
   "source": [
    "oil_price = pd.read_csv('Oil_Price.csv')\n",
    "oil_price.head()"
   ]
  },
  {
   "cell_type": "code",
   "execution_count": 3,
   "id": "955b4b7a",
   "metadata": {},
   "outputs": [
    {
     "data": {
      "text/plain": [
       "(561, 2)"
      ]
     },
     "execution_count": 3,
     "metadata": {},
     "output_type": "execute_result"
    }
   ],
   "source": [
    "oil_price.shape"
   ]
  },
  {
   "cell_type": "code",
   "execution_count": 4,
   "id": "bad2468d",
   "metadata": {},
   "outputs": [],
   "source": [
    "# Convert string to Datetime\n",
    "oil_price['DATE'] = pd.to_datetime(oil_price['DATE'])"
   ]
  },
  {
   "cell_type": "code",
   "execution_count": 5,
   "id": "160c52fd",
   "metadata": {},
   "outputs": [],
   "source": [
    "# Process the oil price data, there are some '.' data in it\n",
    "oil_price.loc[oil_price['DCOILWTICO'] == '.','DCOILWTICO'] = np.nan\n",
    "\n",
    "# Fill the None with the last day's price\n",
    "oil_price = oil_price.fillna(method='pad')"
   ]
  },
  {
   "cell_type": "code",
   "execution_count": 6,
   "id": "82d6d55c",
   "metadata": {},
   "outputs": [
    {
     "data": {
      "text/html": [
       "<div>\n",
       "<style scoped>\n",
       "    .dataframe tbody tr th:only-of-type {\n",
       "        vertical-align: middle;\n",
       "    }\n",
       "\n",
       "    .dataframe tbody tr th {\n",
       "        vertical-align: top;\n",
       "    }\n",
       "\n",
       "    .dataframe thead th {\n",
       "        text-align: right;\n",
       "    }\n",
       "</style>\n",
       "<table border=\"1\" class=\"dataframe\">\n",
       "  <thead>\n",
       "    <tr style=\"text-align: right;\">\n",
       "      <th></th>\n",
       "      <th>DCOILWTICO</th>\n",
       "    </tr>\n",
       "    <tr>\n",
       "      <th>DATE</th>\n",
       "      <th></th>\n",
       "    </tr>\n",
       "  </thead>\n",
       "  <tbody>\n",
       "    <tr>\n",
       "      <th>2020-04-21</th>\n",
       "      <td>8.91</td>\n",
       "    </tr>\n",
       "    <tr>\n",
       "      <th>2020-04-22</th>\n",
       "      <td>13.64</td>\n",
       "    </tr>\n",
       "    <tr>\n",
       "      <th>2020-04-23</th>\n",
       "      <td>15.06</td>\n",
       "    </tr>\n",
       "    <tr>\n",
       "      <th>2020-04-24</th>\n",
       "      <td>15.99</td>\n",
       "    </tr>\n",
       "    <tr>\n",
       "      <th>2020-04-27</th>\n",
       "      <td>12.17</td>\n",
       "    </tr>\n",
       "    <tr>\n",
       "      <th>...</th>\n",
       "      <td>...</td>\n",
       "    </tr>\n",
       "    <tr>\n",
       "      <th>2022-06-08</th>\n",
       "      <td>121.94</td>\n",
       "    </tr>\n",
       "    <tr>\n",
       "      <th>2022-06-09</th>\n",
       "      <td>121.52</td>\n",
       "    </tr>\n",
       "    <tr>\n",
       "      <th>2022-06-10</th>\n",
       "      <td>120.73</td>\n",
       "    </tr>\n",
       "    <tr>\n",
       "      <th>2022-06-13</th>\n",
       "      <td>120.92</td>\n",
       "    </tr>\n",
       "    <tr>\n",
       "      <th>2022-06-14</th>\n",
       "      <td>118.92</td>\n",
       "    </tr>\n",
       "  </tbody>\n",
       "</table>\n",
       "<p>561 rows × 1 columns</p>\n",
       "</div>"
      ],
      "text/plain": [
       "           DCOILWTICO\n",
       "DATE                 \n",
       "2020-04-21       8.91\n",
       "2020-04-22      13.64\n",
       "2020-04-23      15.06\n",
       "2020-04-24      15.99\n",
       "2020-04-27      12.17\n",
       "...               ...\n",
       "2022-06-08     121.94\n",
       "2022-06-09     121.52\n",
       "2022-06-10     120.73\n",
       "2022-06-13     120.92\n",
       "2022-06-14     118.92\n",
       "\n",
       "[561 rows x 1 columns]"
      ]
     },
     "execution_count": 6,
     "metadata": {},
     "output_type": "execute_result"
    }
   ],
   "source": [
    "# Set time as index\n",
    "oil_price_with_date_index = oil_price.set_index('DATE')\n",
    "oil_price_with_date_index"
   ]
  },
  {
   "cell_type": "code",
   "execution_count": 7,
   "id": "f3608e07",
   "metadata": {},
   "outputs": [
    {
     "data": {
      "text/plain": [
       "<AxesSubplot:xlabel='DATE'>"
      ]
     },
     "execution_count": 7,
     "metadata": {},
     "output_type": "execute_result"
    },
    {
     "data": {
      "image/png": "[encoded data removed]",
      "text/plain": [
       "<Figure size 1080x720 with 1 Axes>"
      ]
     },
     "metadata": {
      "needs_background": "light"
     },
     "output_type": "display_data"
    }
   ],
   "source": [
    "# Convert the price data type to 'float'\n",
    "oil_price_with_date_index['DCOILWTICO'] = oil_price_with_date_index['DCOILWTICO'].astype(float)\n",
    "oil_price_with_date_index.plot()"
   ]
  },
  {
   "cell_type": "code",
   "execution_count": 8,
   "id": "6cc6acc4",
   "metadata": {},
   "outputs": [
    {
     "data": {
      "text/html": [
       "<div>\n",
       "<style scoped>\n",
       "    .dataframe tbody tr th:only-of-type {\n",
       "        vertical-align: middle;\n",
       "    }\n",
       "\n",
       "    .dataframe tbody tr th {\n",
       "        vertical-align: top;\n",
       "    }\n",
       "\n",
       "    .dataframe thead th {\n",
       "        text-align: right;\n",
       "    }\n",
       "</style>\n",
       "<table border=\"1\" class=\"dataframe\">\n",
       "  <thead>\n",
       "    <tr style=\"text-align: right;\">\n",
       "      <th></th>\n",
       "      <th>DCOILWTICO</th>\n",
       "      <th>Julian</th>\n",
       "    </tr>\n",
       "    <tr>\n",
       "      <th>DATE</th>\n",
       "      <th></th>\n",
       "      <th></th>\n",
       "    </tr>\n",
       "  </thead>\n",
       "  <tbody>\n",
       "    <tr>\n",
       "      <th>2020-04-21</th>\n",
       "      <td>8.91</td>\n",
       "      <td>2458960.5</td>\n",
       "    </tr>\n",
       "    <tr>\n",
       "      <th>2020-04-22</th>\n",
       "      <td>13.64</td>\n",
       "      <td>2458961.5</td>\n",
       "    </tr>\n",
       "    <tr>\n",
       "      <th>2020-04-23</th>\n",
       "      <td>15.06</td>\n",
       "      <td>2458962.5</td>\n",
       "    </tr>\n",
       "    <tr>\n",
       "      <th>2020-04-24</th>\n",
       "      <td>15.99</td>\n",
       "      <td>2458963.5</td>\n",
       "    </tr>\n",
       "    <tr>\n",
       "      <th>2020-04-27</th>\n",
       "      <td>12.17</td>\n",
       "      <td>2458966.5</td>\n",
       "    </tr>\n",
       "    <tr>\n",
       "      <th>...</th>\n",
       "      <td>...</td>\n",
       "      <td>...</td>\n",
       "    </tr>\n",
       "    <tr>\n",
       "      <th>2022-06-08</th>\n",
       "      <td>121.94</td>\n",
       "      <td>2459738.5</td>\n",
       "    </tr>\n",
       "    <tr>\n",
       "      <th>2022-06-09</th>\n",
       "      <td>121.52</td>\n",
       "      <td>2459739.5</td>\n",
       "    </tr>\n",
       "    <tr>\n",
       "      <th>2022-06-10</th>\n",
       "      <td>120.73</td>\n",
       "      <td>2459740.5</td>\n",
       "    </tr>\n",
       "    <tr>\n",
       "      <th>2022-06-13</th>\n",
       "      <td>120.92</td>\n",
       "      <td>2459743.5</td>\n",
       "    </tr>\n",
       "    <tr>\n",
       "      <th>2022-06-14</th>\n",
       "      <td>118.92</td>\n",
       "      <td>2459744.5</td>\n",
       "    </tr>\n",
       "  </tbody>\n",
       "</table>\n",
       "<p>561 rows × 2 columns</p>\n",
       "</div>"
      ],
      "text/plain": [
       "            DCOILWTICO     Julian\n",
       "DATE                             \n",
       "2020-04-21        8.91  2458960.5\n",
       "2020-04-22       13.64  2458961.5\n",
       "2020-04-23       15.06  2458962.5\n",
       "2020-04-24       15.99  2458963.5\n",
       "2020-04-27       12.17  2458966.5\n",
       "...                ...        ...\n",
       "2022-06-08      121.94  2459738.5\n",
       "2022-06-09      121.52  2459739.5\n",
       "2022-06-10      120.73  2459740.5\n",
       "2022-06-13      120.92  2459743.5\n",
       "2022-06-14      118.92  2459744.5\n",
       "\n",
       "[561 rows x 2 columns]"
      ]
     },
     "execution_count": 8,
     "metadata": {},
     "output_type": "execute_result"
    }
   ],
   "source": [
    "# Add one column named 'Julian'\n",
    "oil_price_with_date_index['Julian'] = oil_price_with_date_index.index.to_julian_date()\n",
    "oil_price_with_date_index"
   ]
  },
  {
   "cell_type": "markdown",
   "id": "7e2bd9d2",
   "metadata": {},
   "source": [
    "## Support vector regression (SVR) model"
   ]
  },
  {
   "cell_type": "code",
   "execution_count": 9,
   "id": "eafc47da",
   "metadata": {},
   "outputs": [
    {
     "name": "stderr",
     "output_type": "stream",
     "text": [
      "C:\\Anaconda\\envs\\news-crawler\\lib\\site-packages\\scikit_learn-1.1.1-py3.9-win-amd64.egg\\sklearn\\utils\\validation.py:1111: DataConversionWarning: A column-vector y was passed when a 1d array was expected. Please change the shape of y to (n_samples, ), for example using ravel().\n",
      "  y = column_or_1d(y, warn=True)\n",
      "C:\\Anaconda\\envs\\news-crawler\\lib\\site-packages\\scikit_learn-1.1.1-py3.9-win-amd64.egg\\sklearn\\base.py:450: UserWarning: X does not have valid feature names, but SVR was fitted with feature names\n",
      "  warnings.warn(\n"
     ]
    },
    {
     "data": {
      "image/png": "[encoded data removed]",
      "text/plain": [
       "<Figure size 1080x720 with 1 Axes>"
      ]
     },
     "metadata": {
      "needs_background": "light"
     },
     "output_type": "display_data"
    }
   ],
   "source": [
    "from sklearn.linear_model import LinearRegression\n",
    "from sklearn.svm import SVR\n",
    "import matplotlib.pyplot as plt\n",
    "\n",
    "future_days = []\n",
    "\n",
    "\n",
    "days = oil_price_with_date_index[\"Julian\"].to_frame()\n",
    "price = oil_price_with_date_index['DCOILWTICO'].to_frame()\n",
    "\n",
    "svr_rbf = SVR(kernel='rbf', C=1e3, gamma=0.0001).fit(days, price)\n",
    "\n",
    "\n",
    "# Extend a number of days for forecasting the future \n",
    "last_day = 2459744.5\n",
    "for i in range(1, 60):\n",
    "    future_days.append([last_day + i])\n",
    "\n",
    "\n",
    "svr_rbf_pred = list(map(lambda x: float(x), svr_rbf.predict(days)))\n",
    "svr_rbf_pred_future = list(map(lambda x: float(x), svr_rbf.predict(future_days)))\n",
    "\n",
    "plt.plot(days, price, color='black', label='Oil Price')\n",
    "plt.plot(days, svr_rbf_pred, color='blue', label='Support Vector Regression')\n",
    "plt.plot(future_days, svr_rbf_pred_future, color='red')\n",
    "plt.xlabel('Julian Date')\n",
    "plt.ylabel('Oil Price (USD)')\n",
    "plt.legend(loc=2)\n",
    "plt.show()"
   ]
  },
  {
   "cell_type": "markdown",
   "id": "71ddb0a1",
   "metadata": {},
   "source": [
    "# LSTM Model"
   ]
  },
  {
   "cell_type": "code",
   "execution_count": 10,
   "id": "49addbd4",
   "metadata": {},
   "outputs": [],
   "source": [
    "from keras.preprocessing import sequence\n",
    "from sklearn.preprocessing import MinMaxScaler\n",
    "from keras.models import load_model, Model\n",
    "from keras.layers import Input, LSTM, Dense\n",
    "import h5py\n"
   ]
  },
  {
   "cell_type": "code",
   "execution_count": 11,
   "id": "b9e21d1f",
   "metadata": {},
   "outputs": [
    {
     "name": "stdout",
     "output_type": "stream",
     "text": [
      "448.8\n"
     ]
    },
    {
     "data": {
      "text/plain": [
       "420"
      ]
     },
     "execution_count": 11,
     "metadata": {},
     "output_type": "execute_result"
    }
   ],
   "source": [
    "# length of data\n",
    "length = 561\n",
    "\n",
    "# Fetch around 80% as training data\n",
    "length *= 0.8\n",
    "print(length)\n",
    "\n",
    "batch_size = 30\n",
    "train_length = []\n",
    "for x in range(int(length)-31, int(length)):\n",
    "    if (x % batch_size == 0):\n",
    "        train_length.append(x)\n",
    "\n",
    "train_data_length = max(train_length)\n",
    "train_data_length"
   ]
  },
  {
   "cell_type": "code",
   "execution_count": 12,
   "id": "1a04de10",
   "metadata": {},
   "outputs": [
    {
     "data": {
      "text/plain": [
       "(440, 1)"
      ]
     },
     "execution_count": 12,
     "metadata": {},
     "output_type": "execute_result"
    }
   ],
   "source": [
    "timestep = 10 # first 10 day's data to forcast next 10 days\n",
    "timestep_added_length = train_data_length + timestep*2\n",
    "train_df = oil_price[0: timestep_added_length]\n",
    "train_set_values = train_df['DCOILWTICO'].values\n",
    "train_set_values = train_set_values.reshape(440, 1)\n",
    "train_set_values.shape"
   ]
  },
  {
   "cell_type": "code",
   "execution_count": 13,
   "id": "f9577f5d",
   "metadata": {},
   "outputs": [],
   "source": [
    "# Scaling each value to 0 and 1\n",
    "mms = MinMaxScaler(feature_range = (0, 1))\n",
    "training_set_mms = mms.fit_transform(np.float64(train_set_values))"
   ]
  },
  {
   "cell_type": "code",
   "execution_count": 14,
   "id": "3d16bdc4",
   "metadata": {},
   "outputs": [],
   "source": [
    "X_list = []\n",
    "y_list = []\n",
    "\n",
    "for i in range(timestep, train_data_length + timestep):\n",
    "    X_list.append(training_set_mms[i-timestep:i, 0])\n",
    "    y_list.append(training_set_mms[i:i+timestep, 0])\n"
   ]
  },
  {
   "cell_type": "code",
   "execution_count": 15,
   "id": "9a339fc7",
   "metadata": {
    "scrolled": true
   },
   "outputs": [
    {
     "name": "stdout",
     "output_type": "stream",
     "text": [
      "420\n",
      "420\n"
     ]
    }
   ],
   "source": [
    "print(len(X_list))\n",
    "print(len(y_list))"
   ]
  },
  {
   "cell_type": "code",
   "execution_count": 16,
   "id": "67a3e45b",
   "metadata": {},
   "outputs": [
    {
     "name": "stdout",
     "output_type": "stream",
     "text": [
      "(420, 10, 1)\n",
      "(420, 10, 1)\n"
     ]
    }
   ],
   "source": [
    "X_train = np.array(X_list)\n",
    "X_train = np.reshape(X_train, (420, 10, 1))\n",
    "print(X_train.shape)\n",
    "\n",
    "y_train = np.array(y_list)\n",
    "y_train = np.reshape(y_train, (420, 10, 1))\n",
    "print(y_train.shape)"
   ]
  },
  {
   "cell_type": "code",
   "execution_count": 17,
   "id": "16fc2a9d",
   "metadata": {},
   "outputs": [],
   "source": [
    "# Construct the neural network\n",
    "input_layer = Input(batch_shape=(batch_size, timestep, 1))\n",
    "lstm_layer_1 = LSTM(10, stateful=True, return_sequences=True)(input_layer)\n",
    "lstm_layer_2 = LSTM(10, stateful=True, return_sequences=True)(lstm_layer_1)\n",
    "output_layer = Dense(units=1)(lstm_layer_2)\n",
    "\n",
    "rgn = Model(inputs=input_layer, outputs=output_layer)\n",
    "rgn.compile(optimizer='adam', loss='mae')\n"
   ]
  },
  {
   "cell_type": "code",
   "execution_count": 18,
   "id": "ca62d2d8",
   "metadata": {},
   "outputs": [
    {
     "name": "stderr",
     "output_type": "stream",
     "text": [
      "\r",
      "  0%|                                                                                          | 0/200 [00:00<?, ?it/s]"
     ]
    },
    {
     "name": "stdout",
     "output_type": "stream",
     "text": [
      "14/14 [==============================] - 2s 3ms/step - loss: 0.6418\n"
     ]
    },
    {
     "name": "stderr",
     "output_type": "stream",
     "text": [
      "\r",
      "  0%|▍                                                                                 | 1/200 [00:01<05:35,  1.68s/it]"
     ]
    },
    {
     "name": "stdout",
     "output_type": "stream",
     "text": [
      "14/14 [==============================] - 0s 3ms/step - loss: 0.4083\n",
      "14/14 [==============================] - 0s 3ms/step - loss: 0.0968\n"
     ]
    },
    {
     "name": "stderr",
     "output_type": "stream",
     "text": [
      "\r",
      "  2%|█▏                                                                                | 3/200 [00:01<01:36,  2.05it/s]"
     ]
    },
    {
     "name": "stdout",
     "output_type": "stream",
     "text": [
      "14/14 [==============================] - 0s 3ms/step - loss: 0.1839\n",
      "14/14 [==============================] - 0s 3ms/step - loss: 0.1365\n"
     ]
    },
    {
     "name": "stderr",
     "output_type": "stream",
     "text": [
      "\r",
      "  2%|██                                                                                | 5/200 [00:01<00:52,  3.68it/s]"
     ]
    },
    {
     "name": "stdout",
     "output_type": "stream",
     "text": [
      "14/14 [==============================] - 0s 3ms/step - loss: 0.0995\n",
      "14/14 [==============================] - 0s 3ms/step - loss: 0.0973\n"
     ]
    },
    {
     "name": "stderr",
     "output_type": "stream",
     "text": [
      "\r",
      "  4%|██▊                                                                               | 7/200 [00:02<00:35,  5.40it/s]"
     ]
    },
    {
     "name": "stdout",
     "output_type": "stream",
     "text": [
      "14/14 [==============================] - 0s 3ms/step - loss: 0.0947\n",
      "14/14 [==============================] - 0s 3ms/step - loss: 0.0868\n"
     ]
    },
    {
     "name": "stderr",
     "output_type": "stream",
     "text": [
      "\r",
      "  4%|███▋                                                                              | 9/200 [00:02<00:26,  7.08it/s]"
     ]
    },
    {
     "name": "stdout",
     "output_type": "stream",
     "text": [
      "14/14 [==============================] - 0s 3ms/step - loss: 0.0821\n",
      "14/14 [==============================] - 0s 3ms/step - loss: 0.0775\n"
     ]
    },
    {
     "name": "stderr",
     "output_type": "stream",
     "text": [
      "\r",
      "  6%|████▍                                                                            | 11/200 [00:02<00:21,  8.65it/s]"
     ]
    },
    {
     "name": "stdout",
     "output_type": "stream",
     "text": [
      "14/14 [==============================] - 0s 3ms/step - loss: 0.0721\n",
      "14/14 [==============================] - 0s 3ms/step - loss: 0.0697\n"
     ]
    },
    {
     "name": "stderr",
     "output_type": "stream",
     "text": [
      "\r",
      "  6%|█████▎                                                                           | 13/200 [00:02<00:18,  9.96it/s]"
     ]
    },
    {
     "name": "stdout",
     "output_type": "stream",
     "text": [
      "14/14 [==============================] - 0s 3ms/step - loss: 0.0645\n",
      "14/14 [==============================] - 0s 3ms/step - loss: 0.0669\n"
     ]
    },
    {
     "name": "stderr",
     "output_type": "stream",
     "text": [
      "\r",
      "  8%|██████                                                                           | 15/200 [00:02<00:16, 11.12it/s]"
     ]
    },
    {
     "name": "stdout",
     "output_type": "stream",
     "text": [
      "14/14 [==============================] - 0s 3ms/step - loss: 0.0628\n",
      "14/14 [==============================] - 0s 3ms/step - loss: 0.0676\n"
     ]
    },
    {
     "name": "stderr",
     "output_type": "stream",
     "text": [
      "\r",
      "  8%|██████▉                                                                          | 17/200 [00:02<00:15, 12.11it/s]"
     ]
    },
    {
     "name": "stdout",
     "output_type": "stream",
     "text": [
      "14/14 [==============================] - 0s 3ms/step - loss: 0.0640\n",
      "14/14 [==============================] - 0s 3ms/step - loss: 0.0677\n"
     ]
    },
    {
     "name": "stderr",
     "output_type": "stream",
     "text": [
      "\r",
      " 10%|███████▋                                                                         | 19/200 [00:02<00:14, 12.87it/s]"
     ]
    },
    {
     "name": "stdout",
     "output_type": "stream",
     "text": [
      "14/14 [==============================] - 0s 3ms/step - loss: 0.0649\n",
      "14/14 [==============================] - 0s 3ms/step - loss: 0.0675\n"
     ]
    },
    {
     "name": "stderr",
     "output_type": "stream",
     "text": [
      "\r",
      " 10%|████████▌                                                                        | 21/200 [00:03<00:13, 13.35it/s]"
     ]
    },
    {
     "name": "stdout",
     "output_type": "stream",
     "text": [
      "14/14 [==============================] - 0s 3ms/step - loss: 0.0660\n",
      "14/14 [==============================] - 0s 3ms/step - loss: 0.0662\n"
     ]
    },
    {
     "name": "stderr",
     "output_type": "stream",
     "text": [
      "\r",
      " 12%|█████████▎                                                                       | 23/200 [00:03<00:12, 13.74it/s]"
     ]
    },
    {
     "name": "stdout",
     "output_type": "stream",
     "text": [
      "14/14 [==============================] - 0s 3ms/step - loss: 0.0661\n",
      "14/14 [==============================] - 0s 3ms/step - loss: 0.0647\n"
     ]
    },
    {
     "name": "stderr",
     "output_type": "stream",
     "text": [
      "\r",
      " 12%|██████████▏                                                                      | 25/200 [00:03<00:12, 14.11it/s]"
     ]
    },
    {
     "name": "stdout",
     "output_type": "stream",
     "text": [
      "14/14 [==============================] - 0s 3ms/step - loss: 0.0655\n",
      "14/14 [==============================] - 0s 3ms/step - loss: 0.0633\n"
     ]
    },
    {
     "name": "stderr",
     "output_type": "stream",
     "text": [
      "\r",
      " 14%|██████████▉                                                                      | 27/200 [00:03<00:12, 14.29it/s]"
     ]
    },
    {
     "name": "stdout",
     "output_type": "stream",
     "text": [
      "14/14 [==============================] - 0s 3ms/step - loss: 0.0651\n",
      "14/14 [==============================] - 0s 3ms/step - loss: 0.0621\n"
     ]
    },
    {
     "name": "stderr",
     "output_type": "stream",
     "text": [
      "\r",
      " 14%|███████████▋                                                                     | 29/200 [00:03<00:11, 14.51it/s]"
     ]
    },
    {
     "name": "stdout",
     "output_type": "stream",
     "text": [
      "14/14 [==============================] - 0s 3ms/step - loss: 0.0652\n",
      "14/14 [==============================] - 0s 3ms/step - loss: 0.0609\n"
     ]
    },
    {
     "name": "stderr",
     "output_type": "stream",
     "text": [
      "\r",
      " 16%|████████████▌                                                                    | 31/200 [00:03<00:11, 14.29it/s]"
     ]
    },
    {
     "name": "stdout",
     "output_type": "stream",
     "text": [
      "14/14 [==============================] - 0s 3ms/step - loss: 0.0644\n",
      "14/14 [==============================] - 0s 3ms/step - loss: 0.0599\n"
     ]
    },
    {
     "name": "stderr",
     "output_type": "stream",
     "text": [
      "\r",
      " 16%|█████████████▎                                                                   | 33/200 [00:03<00:11, 14.41it/s]"
     ]
    },
    {
     "name": "stdout",
     "output_type": "stream",
     "text": [
      "14/14 [==============================] - 0s 3ms/step - loss: 0.0638\n",
      "14/14 [==============================] - 0s 3ms/step - loss: 0.0588\n"
     ]
    },
    {
     "name": "stderr",
     "output_type": "stream",
     "text": [
      "\r",
      " 18%|██████████████▏                                                                  | 35/200 [00:03<00:11, 14.53it/s]"
     ]
    },
    {
     "name": "stdout",
     "output_type": "stream",
     "text": [
      "14/14 [==============================] - 0s 3ms/step - loss: 0.0633\n",
      "14/14 [==============================] - 0s 3ms/step - loss: 0.0581\n"
     ]
    },
    {
     "name": "stderr",
     "output_type": "stream",
     "text": [
      "\r",
      " 18%|██████████████▉                                                                  | 37/200 [00:04<00:11, 14.61it/s]"
     ]
    },
    {
     "name": "stdout",
     "output_type": "stream",
     "text": [
      "14/14 [==============================] - 0s 3ms/step - loss: 0.0627\n",
      "14/14 [==============================] - 0s 3ms/step - loss: 0.0573\n"
     ]
    },
    {
     "name": "stderr",
     "output_type": "stream",
     "text": [
      "\r",
      " 20%|███████████████▊                                                                 | 39/200 [00:04<00:10, 14.67it/s]"
     ]
    },
    {
     "name": "stdout",
     "output_type": "stream",
     "text": [
      "14/14 [==============================] - 0s 3ms/step - loss: 0.0624\n",
      "14/14 [==============================] - 0s 3ms/step - loss: 0.0566\n"
     ]
    },
    {
     "name": "stderr",
     "output_type": "stream",
     "text": [
      "\r",
      " 20%|████████████████▌                                                                | 41/200 [00:04<00:10, 14.65it/s]"
     ]
    },
    {
     "name": "stdout",
     "output_type": "stream",
     "text": [
      "14/14 [==============================] - 0s 3ms/step - loss: 0.0620\n",
      "14/14 [==============================] - 0s 3ms/step - loss: 0.0559\n"
     ]
    },
    {
     "name": "stderr",
     "output_type": "stream",
     "text": [
      "\r",
      " 22%|█████████████████▍                                                               | 43/200 [00:04<00:10, 14.66it/s]"
     ]
    },
    {
     "name": "stdout",
     "output_type": "stream",
     "text": [
      "14/14 [==============================] - 0s 3ms/step - loss: 0.0614\n",
      "14/14 [==============================] - 0s 3ms/step - loss: 0.0553\n"
     ]
    },
    {
     "name": "stderr",
     "output_type": "stream",
     "text": [
      "\r",
      " 22%|██████████████████▏                                                              | 45/200 [00:04<00:10, 14.64it/s]"
     ]
    },
    {
     "name": "stdout",
     "output_type": "stream",
     "text": [
      "14/14 [==============================] - 0s 3ms/step - loss: 0.0606\n",
      "14/14 [==============================] - 0s 3ms/step - loss: 0.0549\n"
     ]
    },
    {
     "name": "stderr",
     "output_type": "stream",
     "text": [
      "\r",
      " 24%|███████████████████                                                              | 47/200 [00:04<00:10, 14.69it/s]"
     ]
    },
    {
     "name": "stdout",
     "output_type": "stream",
     "text": [
      "14/14 [==============================] - 0s 3ms/step - loss: 0.0605\n",
      "14/14 [==============================] - 0s 3ms/step - loss: 0.0546\n"
     ]
    },
    {
     "name": "stderr",
     "output_type": "stream",
     "text": [
      "\r",
      " 24%|███████████████████▊                                                             | 49/200 [00:04<00:10, 14.83it/s]"
     ]
    },
    {
     "name": "stdout",
     "output_type": "stream",
     "text": [
      "14/14 [==============================] - 0s 3ms/step - loss: 0.0602\n",
      "14/14 [==============================] - 0s 3ms/step - loss: 0.0542\n"
     ]
    },
    {
     "name": "stderr",
     "output_type": "stream",
     "text": [
      "\r",
      " 26%|████████████████████▋                                                            | 51/200 [00:05<00:10, 14.78it/s]"
     ]
    },
    {
     "name": "stdout",
     "output_type": "stream",
     "text": [
      "14/14 [==============================] - 0s 3ms/step - loss: 0.0593\n",
      "14/14 [==============================] - 0s 3ms/step - loss: 0.0538\n"
     ]
    },
    {
     "name": "stderr",
     "output_type": "stream",
     "text": [
      "\r",
      " 26%|█████████████████████▍                                                           | 53/200 [00:05<00:09, 14.96it/s]"
     ]
    },
    {
     "name": "stdout",
     "output_type": "stream",
     "text": [
      "14/14 [==============================] - 0s 3ms/step - loss: 0.0584\n",
      "14/14 [==============================] - 0s 3ms/step - loss: 0.0533\n"
     ]
    },
    {
     "name": "stderr",
     "output_type": "stream",
     "text": [
      "\r",
      " 28%|██████████████████████▎                                                          | 55/200 [00:05<00:09, 15.08it/s]"
     ]
    },
    {
     "name": "stdout",
     "output_type": "stream",
     "text": [
      "14/14 [==============================] - 0s 3ms/step - loss: 0.0574\n",
      "14/14 [==============================] - 0s 3ms/step - loss: 0.0529\n"
     ]
    },
    {
     "name": "stderr",
     "output_type": "stream",
     "text": [
      "\r",
      " 28%|███████████████████████                                                          | 57/200 [00:05<00:09, 15.10it/s]"
     ]
    },
    {
     "name": "stdout",
     "output_type": "stream",
     "text": [
      "14/14 [==============================] - 0s 3ms/step - loss: 0.0562\n",
      "14/14 [==============================] - 0s 3ms/step - loss: 0.0523\n"
     ]
    },
    {
     "name": "stderr",
     "output_type": "stream",
     "text": [
      "\r",
      " 30%|███████████████████████▉                                                         | 59/200 [00:05<00:09, 15.11it/s]"
     ]
    },
    {
     "name": "stdout",
     "output_type": "stream",
     "text": [
      "14/14 [==============================] - 0s 3ms/step - loss: 0.0553\n",
      "14/14 [==============================] - 0s 3ms/step - loss: 0.0515\n"
     ]
    },
    {
     "name": "stderr",
     "output_type": "stream",
     "text": [
      "\r",
      " 30%|████████████████████████▋                                                        | 61/200 [00:05<00:09, 15.06it/s]"
     ]
    },
    {
     "name": "stdout",
     "output_type": "stream",
     "text": [
      "14/14 [==============================] - 0s 3ms/step - loss: 0.0538\n",
      "14/14 [==============================] - 0s 3ms/step - loss: 0.0510\n"
     ]
    },
    {
     "name": "stderr",
     "output_type": "stream",
     "text": [
      "\r",
      " 32%|█████████████████████████▌                                                       | 63/200 [00:05<00:09, 15.15it/s]"
     ]
    },
    {
     "name": "stdout",
     "output_type": "stream",
     "text": [
      "14/14 [==============================] - 0s 3ms/step - loss: 0.0532\n",
      "14/14 [==============================] - 0s 3ms/step - loss: 0.0502\n"
     ]
    },
    {
     "name": "stderr",
     "output_type": "stream",
     "text": [
      "\r",
      " 32%|██████████████████████████▎                                                      | 65/200 [00:06<00:08, 15.12it/s]"
     ]
    },
    {
     "name": "stdout",
     "output_type": "stream",
     "text": [
      "14/14 [==============================] - 0s 3ms/step - loss: 0.0520\n",
      "14/14 [==============================] - 0s 3ms/step - loss: 0.0498\n"
     ]
    },
    {
     "name": "stderr",
     "output_type": "stream",
     "text": [
      "\r",
      " 34%|███████████████████████████▏                                                     | 67/200 [00:06<00:08, 15.06it/s]"
     ]
    },
    {
     "name": "stdout",
     "output_type": "stream",
     "text": [
      "14/14 [==============================] - 0s 3ms/step - loss: 0.0513\n",
      "14/14 [==============================] - 0s 3ms/step - loss: 0.0489\n"
     ]
    },
    {
     "name": "stderr",
     "output_type": "stream",
     "text": [
      "\r",
      " 34%|███████████████████████████▉                                                     | 69/200 [00:06<00:08, 15.12it/s]"
     ]
    },
    {
     "name": "stdout",
     "output_type": "stream",
     "text": [
      "14/14 [==============================] - 0s 3ms/step - loss: 0.0501\n",
      "14/14 [==============================] - 0s 3ms/step - loss: 0.0485\n"
     ]
    },
    {
     "name": "stderr",
     "output_type": "stream",
     "text": [
      "\r",
      " 36%|████████████████████████████▊                                                    | 71/200 [00:06<00:08, 14.93it/s]"
     ]
    },
    {
     "name": "stdout",
     "output_type": "stream",
     "text": [
      "14/14 [==============================] - 0s 3ms/step - loss: 0.0493\n",
      "14/14 [==============================] - 0s 3ms/step - loss: 0.0479\n"
     ]
    },
    {
     "name": "stderr",
     "output_type": "stream",
     "text": [
      "\r",
      " 36%|█████████████████████████████▌                                                   | 73/200 [00:06<00:08, 14.96it/s]"
     ]
    },
    {
     "name": "stdout",
     "output_type": "stream",
     "text": [
      "14/14 [==============================] - 0s 3ms/step - loss: 0.0482\n",
      "14/14 [==============================] - 0s 3ms/step - loss: 0.0473\n"
     ]
    },
    {
     "name": "stderr",
     "output_type": "stream",
     "text": [
      "\r",
      " 38%|██████████████████████████████▍                                                  | 75/200 [00:06<00:08, 14.88it/s]"
     ]
    },
    {
     "name": "stdout",
     "output_type": "stream",
     "text": [
      "14/14 [==============================] - 0s 3ms/step - loss: 0.0475\n",
      "14/14 [==============================] - 0s 3ms/step - loss: 0.0468\n"
     ]
    },
    {
     "name": "stderr",
     "output_type": "stream",
     "text": [
      "\r",
      " 38%|███████████████████████████████▏                                                 | 77/200 [00:06<00:08, 14.99it/s]"
     ]
    },
    {
     "name": "stdout",
     "output_type": "stream",
     "text": [
      "14/14 [==============================] - 0s 3ms/step - loss: 0.0466\n",
      "14/14 [==============================] - 0s 4ms/step - loss: 0.0462\n"
     ]
    },
    {
     "name": "stderr",
     "output_type": "stream",
     "text": [
      "\r",
      " 40%|███████████████████████████████▉                                                 | 79/200 [00:06<00:08, 14.39it/s]"
     ]
    },
    {
     "name": "stdout",
     "output_type": "stream",
     "text": [
      "14/14 [==============================] - 0s 3ms/step - loss: 0.0460\n",
      "14/14 [==============================] - 0s 3ms/step - loss: 0.0456\n"
     ]
    },
    {
     "name": "stderr",
     "output_type": "stream",
     "text": [
      "\r",
      " 40%|████████████████████████████████▊                                                | 81/200 [00:07<00:08, 14.39it/s]"
     ]
    },
    {
     "name": "stdout",
     "output_type": "stream",
     "text": [
      "14/14 [==============================] - 0s 3ms/step - loss: 0.0454\n",
      "14/14 [==============================] - 0s 3ms/step - loss: 0.0450\n"
     ]
    },
    {
     "name": "stderr",
     "output_type": "stream",
     "text": [
      "\r",
      " 42%|█████████████████████████████████▌                                               | 83/200 [00:07<00:08, 14.33it/s]"
     ]
    },
    {
     "name": "stdout",
     "output_type": "stream",
     "text": [
      "14/14 [==============================] - 0s 3ms/step - loss: 0.0448\n",
      "14/14 [==============================] - 0s 3ms/step - loss: 0.0445\n"
     ]
    },
    {
     "name": "stderr",
     "output_type": "stream",
     "text": [
      "\r",
      " 42%|██████████████████████████████████▍                                              | 85/200 [00:07<00:07, 14.42it/s]"
     ]
    },
    {
     "name": "stdout",
     "output_type": "stream",
     "text": [
      "14/14 [==============================] - 0s 3ms/step - loss: 0.0442\n",
      "14/14 [==============================] - 0s 3ms/step - loss: 0.0440\n"
     ]
    },
    {
     "name": "stderr",
     "output_type": "stream",
     "text": [
      "\r",
      " 44%|███████████████████████████████████▏                                             | 87/200 [00:07<00:07, 14.64it/s]"
     ]
    },
    {
     "name": "stdout",
     "output_type": "stream",
     "text": [
      "14/14 [==============================] - 0s 3ms/step - loss: 0.0436\n",
      "14/14 [==============================] - 0s 3ms/step - loss: 0.0433\n"
     ]
    },
    {
     "name": "stderr",
     "output_type": "stream",
     "text": [
      "\r",
      " 44%|████████████████████████████████████                                             | 89/200 [00:07<00:07, 14.66it/s]"
     ]
    },
    {
     "name": "stdout",
     "output_type": "stream",
     "text": [
      "14/14 [==============================] - 0s 3ms/step - loss: 0.0434\n",
      "14/14 [==============================] - 0s 3ms/step - loss: 0.0432\n"
     ]
    },
    {
     "name": "stderr",
     "output_type": "stream",
     "text": [
      "\r",
      " 46%|████████████████████████████████████▊                                            | 91/200 [00:07<00:07, 14.87it/s]"
     ]
    },
    {
     "name": "stdout",
     "output_type": "stream",
     "text": [
      "14/14 [==============================] - 0s 3ms/step - loss: 0.0428\n",
      "14/14 [==============================] - 0s 3ms/step - loss: 0.0426\n"
     ]
    },
    {
     "name": "stderr",
     "output_type": "stream",
     "text": [
      "\r",
      " 46%|█████████████████████████████████████▋                                           | 93/200 [00:07<00:07, 14.95it/s]"
     ]
    },
    {
     "name": "stdout",
     "output_type": "stream",
     "text": [
      "14/14 [==============================] - 0s 3ms/step - loss: 0.0428\n",
      "14/14 [==============================] - 0s 3ms/step - loss: 0.0429\n"
     ]
    },
    {
     "name": "stderr",
     "output_type": "stream",
     "text": [
      "\r",
      " 48%|██████████████████████████████████████▍                                          | 95/200 [00:08<00:06, 15.04it/s]"
     ]
    },
    {
     "name": "stdout",
     "output_type": "stream",
     "text": [
      "14/14 [==============================] - 0s 3ms/step - loss: 0.0420\n",
      "14/14 [==============================] - 0s 3ms/step - loss: 0.0417\n"
     ]
    },
    {
     "name": "stderr",
     "output_type": "stream",
     "text": [
      "\r",
      " 48%|███████████████████████████████████████▎                                         | 97/200 [00:08<00:06, 15.01it/s]"
     ]
    },
    {
     "name": "stdout",
     "output_type": "stream",
     "text": [
      "14/14 [==============================] - 0s 3ms/step - loss: 0.0426\n",
      "14/14 [==============================] - 0s 3ms/step - loss: 0.0438\n"
     ]
    },
    {
     "name": "stderr",
     "output_type": "stream",
     "text": [
      "\r",
      " 50%|████████████████████████████████████████                                         | 99/200 [00:08<00:06, 14.95it/s]"
     ]
    },
    {
     "name": "stdout",
     "output_type": "stream",
     "text": [
      "14/14 [==============================] - 0s 3ms/step - loss: 0.0412\n",
      "14/14 [==============================] - 0s 3ms/step - loss: 0.0413\n"
     ]
    },
    {
     "name": "stderr",
     "output_type": "stream",
     "text": [
      "\r",
      " 50%|████████████████████████████████████████▍                                       | 101/200 [00:08<00:06, 15.08it/s]"
     ]
    },
    {
     "name": "stdout",
     "output_type": "stream",
     "text": [
      "14/14 [==============================] - 0s 3ms/step - loss: 0.0440\n",
      "14/14 [==============================] - 0s 3ms/step - loss: 0.0568\n"
     ]
    },
    {
     "name": "stderr",
     "output_type": "stream",
     "text": [
      "\r",
      " 52%|█████████████████████████████████████████▏                                      | 103/200 [00:08<00:06, 14.96it/s]"
     ]
    },
    {
     "name": "stdout",
     "output_type": "stream",
     "text": [
      "14/14 [==============================] - 0s 4ms/step - loss: 0.0471\n",
      "14/14 [==============================] - 0s 4ms/step - loss: 0.0640\n"
     ]
    },
    {
     "name": "stderr",
     "output_type": "stream",
     "text": [
      "\r",
      " 52%|██████████████████████████████████████████                                      | 105/200 [00:08<00:06, 14.01it/s]"
     ]
    },
    {
     "name": "stdout",
     "output_type": "stream",
     "text": [
      "14/14 [==============================] - 0s 3ms/step - loss: 0.0498\n",
      "14/14 [==============================] - 0s 3ms/step - loss: 0.0729\n"
     ]
    },
    {
     "name": "stderr",
     "output_type": "stream",
     "text": [
      "\r",
      " 54%|██████████████████████████████████████████▊                                     | 107/200 [00:08<00:06, 13.57it/s]"
     ]
    },
    {
     "name": "stdout",
     "output_type": "stream",
     "text": [
      "14/14 [==============================] - 0s 3ms/step - loss: 0.0415\n",
      "14/14 [==============================] - 0s 3ms/step - loss: 0.0414\n"
     ]
    },
    {
     "name": "stderr",
     "output_type": "stream",
     "text": [
      "\r",
      " 55%|███████████████████████████████████████████▌                                    | 109/200 [00:09<00:06, 13.38it/s]"
     ]
    },
    {
     "name": "stdout",
     "output_type": "stream",
     "text": [
      "14/14 [==============================] - 0s 3ms/step - loss: 0.0425\n",
      "14/14 [==============================] - 0s 3ms/step - loss: 0.0440\n"
     ]
    },
    {
     "name": "stderr",
     "output_type": "stream",
     "text": [
      "\r",
      " 56%|████████████████████████████████████████████▍                                   | 111/200 [00:09<00:06, 13.45it/s]"
     ]
    },
    {
     "name": "stdout",
     "output_type": "stream",
     "text": [
      "14/14 [==============================] - 0s 3ms/step - loss: 0.0400\n",
      "14/14 [==============================] - 0s 3ms/step - loss: 0.0406\n"
     ]
    },
    {
     "name": "stderr",
     "output_type": "stream",
     "text": [
      "\r",
      " 56%|█████████████████████████████████████████████▏                                  | 113/200 [00:09<00:06, 13.86it/s]"
     ]
    },
    {
     "name": "stdout",
     "output_type": "stream",
     "text": [
      "14/14 [==============================] - 0s 3ms/step - loss: 0.0457\n",
      "14/14 [==============================] - 0s 3ms/step - loss: 0.0545\n"
     ]
    },
    {
     "name": "stderr",
     "output_type": "stream",
     "text": [
      "\r",
      " 57%|██████████████████████████████████████████████                                  | 115/200 [00:09<00:05, 14.19it/s]"
     ]
    },
    {
     "name": "stdout",
     "output_type": "stream",
     "text": [
      "14/14 [==============================] - 0s 3ms/step - loss: 0.0420\n",
      "14/14 [==============================] - 0s 3ms/step - loss: 0.0529\n"
     ]
    },
    {
     "name": "stderr",
     "output_type": "stream",
     "text": [
      "\r",
      " 58%|██████████████████████████████████████████████▊                                 | 117/200 [00:09<00:05, 14.47it/s]"
     ]
    },
    {
     "name": "stdout",
     "output_type": "stream",
     "text": [
      "14/14 [==============================] - 0s 3ms/step - loss: 0.0519\n",
      "14/14 [==============================] - 0s 3ms/step - loss: 0.0554\n"
     ]
    },
    {
     "name": "stderr",
     "output_type": "stream",
     "text": [
      "\r",
      " 60%|███████████████████████████████████████████████▌                                | 119/200 [00:09<00:05, 14.35it/s]"
     ]
    },
    {
     "name": "stdout",
     "output_type": "stream",
     "text": [
      "14/14 [==============================] - 0s 3ms/step - loss: 0.0460\n",
      "14/14 [==============================] - 0s 3ms/step - loss: 0.0465\n"
     ]
    },
    {
     "name": "stderr",
     "output_type": "stream",
     "text": [
      "\r",
      " 60%|████████████████████████████████████████████████▍                               | 121/200 [00:09<00:05, 14.33it/s]"
     ]
    },
    {
     "name": "stdout",
     "output_type": "stream",
     "text": [
      "14/14 [==============================] - 0s 3ms/step - loss: 0.0579\n",
      "14/14 [==============================] - 0s 3ms/step - loss: 0.0406\n"
     ]
    },
    {
     "name": "stderr",
     "output_type": "stream",
     "text": [
      "\r",
      " 62%|█████████████████████████████████████████████████▏                              | 123/200 [00:10<00:05, 14.26it/s]"
     ]
    },
    {
     "name": "stdout",
     "output_type": "stream",
     "text": [
      "14/14 [==============================] - 0s 3ms/step - loss: 0.0421\n",
      "14/14 [==============================] - 0s 3ms/step - loss: 0.0452\n"
     ]
    },
    {
     "name": "stderr",
     "output_type": "stream",
     "text": [
      "\r",
      " 62%|██████████████████████████████████████████████████                              | 125/200 [00:10<00:05, 14.42it/s]"
     ]
    },
    {
     "name": "stdout",
     "output_type": "stream",
     "text": [
      "14/14 [==============================] - 0s 3ms/step - loss: 0.0493\n",
      "14/14 [==============================] - 0s 3ms/step - loss: 0.0404\n"
     ]
    },
    {
     "name": "stderr",
     "output_type": "stream",
     "text": [
      "\r",
      " 64%|██████████████████████████████████████████████████▊                             | 127/200 [00:10<00:04, 14.63it/s]"
     ]
    },
    {
     "name": "stdout",
     "output_type": "stream",
     "text": [
      "14/14 [==============================] - 0s 3ms/step - loss: 0.0442\n",
      "14/14 [==============================] - 0s 3ms/step - loss: 0.0492\n"
     ]
    },
    {
     "name": "stderr",
     "output_type": "stream",
     "text": [
      "\r",
      " 64%|███████████████████████████████████████████████████▌                            | 129/200 [00:10<00:04, 14.56it/s]"
     ]
    },
    {
     "name": "stdout",
     "output_type": "stream",
     "text": [
      "14/14 [==============================] - 0s 3ms/step - loss: 0.0446\n",
      "14/14 [==============================] - 0s 3ms/step - loss: 0.0453\n"
     ]
    },
    {
     "name": "stderr",
     "output_type": "stream",
     "text": [
      "\r",
      " 66%|████████████████████████████████████████████████████▍                           | 131/200 [00:10<00:04, 14.70it/s]"
     ]
    },
    {
     "name": "stdout",
     "output_type": "stream",
     "text": [
      "14/14 [==============================] - 0s 3ms/step - loss: 0.0438\n",
      "14/14 [==============================] - 0s 3ms/step - loss: 0.0547\n"
     ]
    },
    {
     "name": "stderr",
     "output_type": "stream",
     "text": [
      "\r",
      " 66%|█████████████████████████████████████████████████████▏                          | 133/200 [00:10<00:04, 14.90it/s]"
     ]
    },
    {
     "name": "stdout",
     "output_type": "stream",
     "text": [
      "14/14 [==============================] - 0s 3ms/step - loss: 0.0390\n",
      "14/14 [==============================] - 0s 3ms/step - loss: 0.0410\n"
     ]
    },
    {
     "name": "stderr",
     "output_type": "stream",
     "text": [
      "\r",
      " 68%|██████████████████████████████████████████████████████                          | 135/200 [00:10<00:04, 15.07it/s]"
     ]
    },
    {
     "name": "stdout",
     "output_type": "stream",
     "text": [
      "14/14 [==============================] - 0s 3ms/step - loss: 0.0432\n",
      "14/14 [==============================] - 0s 3ms/step - loss: 0.0427\n"
     ]
    },
    {
     "name": "stderr",
     "output_type": "stream",
     "text": [
      "\r",
      " 68%|██████████████████████████████████████████████████████▊                         | 137/200 [00:10<00:04, 15.03it/s]"
     ]
    },
    {
     "name": "stdout",
     "output_type": "stream",
     "text": [
      "14/14 [==============================] - 0s 3ms/step - loss: 0.0393\n",
      "14/14 [==============================] - 0s 3ms/step - loss: 0.0408\n"
     ]
    },
    {
     "name": "stderr",
     "output_type": "stream",
     "text": [
      "\r",
      " 70%|███████████████████████████████████████████████████████▌                        | 139/200 [00:11<00:04, 15.19it/s]"
     ]
    },
    {
     "name": "stdout",
     "output_type": "stream",
     "text": [
      "14/14 [==============================] - 0s 3ms/step - loss: 0.0479\n",
      "14/14 [==============================] - 0s 3ms/step - loss: 0.0440\n"
     ]
    },
    {
     "name": "stderr",
     "output_type": "stream",
     "text": [
      "\r",
      " 70%|████████████████████████████████████████████████████████▍                       | 141/200 [00:11<00:03, 15.25it/s]"
     ]
    },
    {
     "name": "stdout",
     "output_type": "stream",
     "text": [
      "14/14 [==============================] - 0s 3ms/step - loss: 0.0470\n",
      "14/14 [==============================] - 0s 3ms/step - loss: 0.0426\n"
     ]
    },
    {
     "name": "stderr",
     "output_type": "stream",
     "text": [
      "\r",
      " 72%|█████████████████████████████████████████████████████████▏                      | 143/200 [00:11<00:03, 15.29it/s]"
     ]
    },
    {
     "name": "stdout",
     "output_type": "stream",
     "text": [
      "14/14 [==============================] - 0s 3ms/step - loss: 0.0548\n",
      "14/14 [==============================] - 0s 3ms/step - loss: 0.0381\n"
     ]
    },
    {
     "name": "stderr",
     "output_type": "stream",
     "text": [
      "\r",
      " 72%|██████████████████████████████████████████████████████████                      | 145/200 [00:11<00:03, 15.28it/s]"
     ]
    },
    {
     "name": "stdout",
     "output_type": "stream",
     "text": [
      "14/14 [==============================] - 0s 3ms/step - loss: 0.0396\n",
      "14/14 [==============================] - 0s 3ms/step - loss: 0.0425\n"
     ]
    },
    {
     "name": "stderr",
     "output_type": "stream",
     "text": [
      "\r",
      " 74%|██████████████████████████████████████████████████████████▊                     | 147/200 [00:11<00:03, 15.20it/s]"
     ]
    },
    {
     "name": "stdout",
     "output_type": "stream",
     "text": [
      "14/14 [==============================] - 0s 3ms/step - loss: 0.0411\n",
      "14/14 [==============================] - 0s 3ms/step - loss: 0.0404\n"
     ]
    },
    {
     "name": "stderr",
     "output_type": "stream",
     "text": [
      "\r",
      " 74%|███████████████████████████████████████████████████████████▌                    | 149/200 [00:11<00:03, 15.22it/s]"
     ]
    },
    {
     "name": "stdout",
     "output_type": "stream",
     "text": [
      "14/14 [==============================] - 0s 3ms/step - loss: 0.0396\n",
      "14/14 [==============================] - 0s 3ms/step - loss: 0.0469\n"
     ]
    },
    {
     "name": "stderr",
     "output_type": "stream",
     "text": [
      "\r",
      " 76%|████████████████████████████████████████████████████████████▍                   | 151/200 [00:11<00:03, 15.27it/s]"
     ]
    },
    {
     "name": "stdout",
     "output_type": "stream",
     "text": [
      "14/14 [==============================] - 0s 3ms/step - loss: 0.0393\n",
      "14/14 [==============================] - 0s 3ms/step - loss: 0.0448\n"
     ]
    },
    {
     "name": "stderr",
     "output_type": "stream",
     "text": [
      "\r",
      " 76%|█████████████████████████████████████████████████████████████▏                  | 153/200 [00:11<00:03, 15.34it/s]"
     ]
    },
    {
     "name": "stdout",
     "output_type": "stream",
     "text": [
      "14/14 [==============================] - 0s 3ms/step - loss: 0.0450\n",
      "14/14 [==============================] - 0s 3ms/step - loss: 0.0499\n"
     ]
    },
    {
     "name": "stderr",
     "output_type": "stream",
     "text": [
      "\r",
      " 78%|██████████████████████████████████████████████████████████████                  | 155/200 [00:12<00:02, 15.35it/s]"
     ]
    },
    {
     "name": "stdout",
     "output_type": "stream",
     "text": [
      "14/14 [==============================] - 0s 3ms/step - loss: 0.0436\n",
      "14/14 [==============================] - 0s 3ms/step - loss: 0.0412\n"
     ]
    },
    {
     "name": "stderr",
     "output_type": "stream",
     "text": [
      "\r",
      " 78%|██████████████████████████████████████████████████████████████▊                 | 157/200 [00:12<00:02, 15.22it/s]"
     ]
    },
    {
     "name": "stdout",
     "output_type": "stream",
     "text": [
      "14/14 [==============================] - 0s 3ms/step - loss: 0.0514\n",
      "14/14 [==============================] - 0s 3ms/step - loss: 0.0377\n"
     ]
    },
    {
     "name": "stderr",
     "output_type": "stream",
     "text": [
      "\r",
      " 80%|███████████████████████████████████████████████████████████████▌                | 159/200 [00:12<00:02, 15.31it/s]"
     ]
    },
    {
     "name": "stdout",
     "output_type": "stream",
     "text": [
      "14/14 [==============================] - 0s 3ms/step - loss: 0.0393\n",
      "14/14 [==============================] - 0s 3ms/step - loss: 0.0423\n"
     ]
    },
    {
     "name": "stderr",
     "output_type": "stream",
     "text": [
      "\r",
      " 80%|████████████████████████████████████████████████████████████████▍               | 161/200 [00:12<00:02, 15.34it/s]"
     ]
    },
    {
     "name": "stdout",
     "output_type": "stream",
     "text": [
      "14/14 [==============================] - 0s 3ms/step - loss: 0.0388\n",
      "14/14 [==============================] - 0s 3ms/step - loss: 0.0403\n"
     ]
    },
    {
     "name": "stderr",
     "output_type": "stream",
     "text": [
      "\r",
      " 82%|█████████████████████████████████████████████████████████████████▏              | 163/200 [00:12<00:02, 15.36it/s]"
     ]
    },
    {
     "name": "stdout",
     "output_type": "stream",
     "text": [
      "14/14 [==============================] - 0s 3ms/step - loss: 0.0426\n",
      "14/14 [==============================] - 0s 3ms/step - loss: 0.0475\n"
     ]
    },
    {
     "name": "stderr",
     "output_type": "stream",
     "text": [
      "\r",
      " 82%|██████████████████████████████████████████████████████████████████              | 165/200 [00:12<00:02, 15.36it/s]"
     ]
    },
    {
     "name": "stdout",
     "output_type": "stream",
     "text": [
      "14/14 [==============================] - 0s 3ms/step - loss: 0.0424\n",
      "14/14 [==============================] - 0s 3ms/step - loss: 0.0407\n"
     ]
    },
    {
     "name": "stderr",
     "output_type": "stream",
     "text": [
      "\r",
      " 84%|██████████████████████████████████████████████████████████████████▊             | 167/200 [00:12<00:02, 15.23it/s]"
     ]
    },
    {
     "name": "stdout",
     "output_type": "stream",
     "text": [
      "14/14 [==============================] - 0s 3ms/step - loss: 0.0497\n",
      "14/14 [==============================] - 0s 3ms/step - loss: 0.0375\n"
     ]
    },
    {
     "name": "stderr",
     "output_type": "stream",
     "text": [
      "\r",
      " 84%|███████████████████████████████████████████████████████████████████▌            | 169/200 [00:13<00:02, 15.28it/s]"
     ]
    },
    {
     "name": "stdout",
     "output_type": "stream",
     "text": [
      "14/14 [==============================] - 0s 3ms/step - loss: 0.0383\n",
      "14/14 [==============================] - 0s 3ms/step - loss: 0.0418\n"
     ]
    },
    {
     "name": "stderr",
     "output_type": "stream",
     "text": [
      "\r",
      " 86%|████████████████████████████████████████████████████████████████████▍           | 171/200 [00:13<00:01, 15.28it/s]"
     ]
    },
    {
     "name": "stdout",
     "output_type": "stream",
     "text": [
      "14/14 [==============================] - 0s 3ms/step - loss: 0.0375\n",
      "14/14 [==============================] - 0s 3ms/step - loss: 0.0388\n"
     ]
    },
    {
     "name": "stderr",
     "output_type": "stream",
     "text": [
      "\r",
      " 86%|█████████████████████████████████████████████████████████████████████▏          | 173/200 [00:13<00:01, 15.31it/s]"
     ]
    },
    {
     "name": "stdout",
     "output_type": "stream",
     "text": [
      "14/14 [==============================] - 0s 3ms/step - loss: 0.0413\n",
      "14/14 [==============================] - 0s 3ms/step - loss: 0.0448\n"
     ]
    },
    {
     "name": "stderr",
     "output_type": "stream",
     "text": [
      "\r",
      " 88%|██████████████████████████████████████████████████████████████████████          | 175/200 [00:13<00:01, 15.30it/s]"
     ]
    },
    {
     "name": "stdout",
     "output_type": "stream",
     "text": [
      "14/14 [==============================] - 0s 3ms/step - loss: 0.0436\n",
      "14/14 [==============================] - 0s 3ms/step - loss: 0.0419\n"
     ]
    },
    {
     "name": "stderr",
     "output_type": "stream",
     "text": [
      "\r",
      " 88%|██████████████████████████████████████████████████████████████████████▊         | 177/200 [00:13<00:01, 15.25it/s]"
     ]
    },
    {
     "name": "stdout",
     "output_type": "stream",
     "text": [
      "14/14 [==============================] - 0s 3ms/step - loss: 0.0504\n",
      "14/14 [==============================] - 0s 3ms/step - loss: 0.0424\n"
     ]
    },
    {
     "name": "stderr",
     "output_type": "stream",
     "text": [
      "\r",
      " 90%|███████████████████████████████████████████████████████████████████████▌        | 179/200 [00:13<00:01, 15.29it/s]"
     ]
    },
    {
     "name": "stdout",
     "output_type": "stream",
     "text": [
      "14/14 [==============================] - 0s 3ms/step - loss: 0.0421\n",
      "14/14 [==============================] - 0s 3ms/step - loss: 0.0456\n"
     ]
    },
    {
     "name": "stderr",
     "output_type": "stream",
     "text": [
      "\r",
      " 90%|████████████████████████████████████████████████████████████████████████▍       | 181/200 [00:13<00:01, 15.36it/s]"
     ]
    },
    {
     "name": "stdout",
     "output_type": "stream",
     "text": [
      "14/14 [==============================] - 0s 3ms/step - loss: 0.0435\n",
      "14/14 [==============================] - 0s 3ms/step - loss: 0.0415\n"
     ]
    },
    {
     "name": "stderr",
     "output_type": "stream",
     "text": [
      "\r",
      " 92%|█████████████████████████████████████████████████████████████████████████▏      | 183/200 [00:13<00:01, 15.26it/s]"
     ]
    },
    {
     "name": "stdout",
     "output_type": "stream",
     "text": [
      "14/14 [==============================] - 0s 3ms/step - loss: 0.0432\n",
      "14/14 [==============================] - 0s 3ms/step - loss: 0.0436\n"
     ]
    },
    {
     "name": "stderr",
     "output_type": "stream",
     "text": [
      "\r",
      " 92%|██████████████████████████████████████████████████████████████████████████      | 185/200 [00:14<00:00, 15.19it/s]"
     ]
    },
    {
     "name": "stdout",
     "output_type": "stream",
     "text": [
      "14/14 [==============================] - 0s 3ms/step - loss: 0.0409\n",
      "14/14 [==============================] - 0s 3ms/step - loss: 0.0409\n"
     ]
    },
    {
     "name": "stderr",
     "output_type": "stream",
     "text": [
      "\r",
      " 94%|██████████████████████████████████████████████████████████████████████████▊     | 187/200 [00:14<00:00, 15.07it/s]"
     ]
    },
    {
     "name": "stdout",
     "output_type": "stream",
     "text": [
      "14/14 [==============================] - 0s 3ms/step - loss: 0.0423\n",
      "14/14 [==============================] - 0s 3ms/step - loss: 0.0408\n"
     ]
    },
    {
     "name": "stderr",
     "output_type": "stream",
     "text": [
      "\r",
      " 94%|███████████████████████████████████████████████████████████████████████████▌    | 189/200 [00:14<00:00, 15.16it/s]"
     ]
    },
    {
     "name": "stdout",
     "output_type": "stream",
     "text": [
      "14/14 [==============================] - 0s 3ms/step - loss: 0.0408\n",
      "14/14 [==============================] - 0s 3ms/step - loss: 0.0431\n"
     ]
    },
    {
     "name": "stderr",
     "output_type": "stream",
     "text": [
      "\r",
      " 96%|████████████████████████████████████████████████████████████████████████████▍   | 191/200 [00:14<00:00, 15.06it/s]"
     ]
    },
    {
     "name": "stdout",
     "output_type": "stream",
     "text": [
      "14/14 [==============================] - 0s 3ms/step - loss: 0.0402\n",
      "14/14 [==============================] - 0s 3ms/step - loss: 0.0391\n"
     ]
    },
    {
     "name": "stderr",
     "output_type": "stream",
     "text": [
      "\r",
      " 96%|█████████████████████████████████████████████████████████████████████████████▏  | 193/200 [00:14<00:00, 14.87it/s]"
     ]
    },
    {
     "name": "stdout",
     "output_type": "stream",
     "text": [
      "14/14 [==============================] - 0s 3ms/step - loss: 0.0404\n",
      "14/14 [==============================] - 0s 3ms/step - loss: 0.0402\n"
     ]
    },
    {
     "name": "stderr",
     "output_type": "stream",
     "text": [
      "\r",
      " 98%|██████████████████████████████████████████████████████████████████████████████  | 195/200 [00:14<00:00, 14.95it/s]"
     ]
    },
    {
     "name": "stdout",
     "output_type": "stream",
     "text": [
      "14/14 [==============================] - 0s 3ms/step - loss: 0.0398\n",
      "14/14 [==============================] - 0s 3ms/step - loss: 0.0418\n"
     ]
    },
    {
     "name": "stderr",
     "output_type": "stream",
     "text": [
      "\r",
      " 98%|██████████████████████████████████████████████████████████████████████████████▊ | 197/200 [00:14<00:00, 14.88it/s]"
     ]
    },
    {
     "name": "stdout",
     "output_type": "stream",
     "text": [
      "14/14 [==============================] - 0s 3ms/step - loss: 0.0401\n",
      "14/14 [==============================] - 0s 3ms/step - loss: 0.0398\n"
     ]
    },
    {
     "name": "stderr",
     "output_type": "stream",
     "text": [
      "\r",
      "100%|███████████████████████████████████████████████████████████████████████████████▌| 199/200 [00:15<00:00, 14.99it/s]"
     ]
    },
    {
     "name": "stdout",
     "output_type": "stream",
     "text": [
      "14/14 [==============================] - 0s 3ms/step - loss: 0.0421\n"
     ]
    },
    {
     "name": "stderr",
     "output_type": "stream",
     "text": [
      "100%|████████████████████████████████████████████████████████████████████████████████| 200/200 [00:15<00:00, 13.25it/s]\n"
     ]
    }
   ],
   "source": [
    "from tqdm import tqdm\n",
    "\n",
    "epoches = 200\n",
    "for i in tqdm(range(epoches)):\n",
    "    rgn.fit(X_train, y_train, shuffle=False, epochs = 1, batch_size = batch_size)\n",
    "    rgn.reset_states()"
   ]
  },
  {
   "cell_type": "code",
   "execution_count": 19,
   "id": "6f3ac1dc",
   "metadata": {},
   "outputs": [
    {
     "data": {
      "text/plain": [
       "530"
      ]
     },
     "execution_count": 19,
     "metadata": {},
     "output_type": "execute_result"
    }
   ],
   "source": [
    "# Construct the test dataset\n",
    "\n",
    "test_length = []\n",
    "for x in range(561-100, 561 - timestep*2):\n",
    "    remainder = (x-timestep_added_length) % batch_size\n",
    "    if (remainder == 0):\n",
    "        test_length.append(x)\n",
    "\n",
    "test_data_length = max(test_length)\n",
    "test_data_length"
   ]
  },
  {
   "cell_type": "code",
   "execution_count": 20,
   "id": "ee216386",
   "metadata": {},
   "outputs": [
    {
     "name": "stdout",
     "output_type": "stream",
     "text": [
      "550 90\n"
     ]
    }
   ],
   "source": [
    "timestep_added_length_test = test_data_length + timestep*2\n",
    "test_dataset_length = test_data_length - timestep_added_length\n",
    "print(timestep_added_length_test, test_dataset_length)"
   ]
  },
  {
   "cell_type": "code",
   "execution_count": 21,
   "id": "464d71f1",
   "metadata": {},
   "outputs": [
    {
     "data": {
      "text/plain": [
       "(110, 1)"
      ]
     },
     "execution_count": 21,
     "metadata": {},
     "output_type": "execute_result"
    }
   ],
   "source": [
    "test_df = oil_price[timestep_added_length: timestep_added_length_test]\n",
    "test_dataset_v = test_df['DCOILWTICO'].values\n",
    "test_dataset_v = test_dataset_v.reshape(110, 1)\n",
    "test_dataset_v.shape"
   ]
  },
  {
   "cell_type": "code",
   "execution_count": 22,
   "id": "01b1255f",
   "metadata": {},
   "outputs": [],
   "source": [
    "test_set_mms = mms.fit_transform(np.float64(test_dataset_v))"
   ]
  },
  {
   "cell_type": "code",
   "execution_count": 23,
   "id": "1346648c",
   "metadata": {},
   "outputs": [
    {
     "data": {
      "text/plain": [
       "(90, 10)"
      ]
     },
     "execution_count": 23,
     "metadata": {},
     "output_type": "execute_result"
    }
   ],
   "source": [
    "X_test = []\n",
    "for i in range(timestep, test_dataset_length + timestep):\n",
    "    X_test.append(test_set_mms[i-timestep:i, 0])\n",
    "X_test = np.array(X_test)\n",
    "X_test.shape"
   ]
  },
  {
   "cell_type": "code",
   "execution_count": 24,
   "id": "609e789c",
   "metadata": {},
   "outputs": [
    {
     "data": {
      "text/plain": [
       "(90, 10, 1)"
      ]
     },
     "execution_count": 24,
     "metadata": {},
     "output_type": "execute_result"
    }
   ],
   "source": [
    "X_test = np.reshape(X_test, (X_test.shape[0], X_test.shape[1], 1))\n",
    "X_test.shape"
   ]
  },
  {
   "cell_type": "code",
   "execution_count": 25,
   "id": "21928b5c",
   "metadata": {},
   "outputs": [
    {
     "name": "stdout",
     "output_type": "stream",
     "text": [
      "3/3 [==============================] - 0s 2ms/step\n"
     ]
    },
    {
     "data": {
      "text/plain": [
       "(90, 10, 1)"
      ]
     },
     "execution_count": 25,
     "metadata": {},
     "output_type": "execute_result"
    }
   ],
   "source": [
    "# Prediction\n",
    "y_predict_ini = rgn.predict(X_test, batch_size=batch_size)\n",
    "y_predict_ini.shape"
   ]
  },
  {
   "cell_type": "code",
   "execution_count": 26,
   "id": "95e1fa04",
   "metadata": {},
   "outputs": [
    {
     "data": {
      "text/plain": [
       "(90, 10)"
      ]
     },
     "execution_count": 26,
     "metadata": {},
     "output_type": "execute_result"
    }
   ],
   "source": [
    "y_predict_ini = np.reshape(y_predict_ini,(y_predict_ini.shape[0], y_predict_ini.shape[1]))\n",
    "y_predict_ini.shape"
   ]
  },
  {
   "cell_type": "code",
   "execution_count": 27,
   "id": "dfb97389",
   "metadata": {
    "scrolled": true
   },
   "outputs": [
    {
     "data": {
      "text/plain": [
       "array([[ 86.73507 ,  88.16302 ,  88.55479 ,  88.10663 ,  87.26041 ,\n",
       "         86.32421 ,  85.45981 ,  84.814125,  84.293076,  83.81784 ],\n",
       "       [ 86.794495,  88.27534 ,  88.53729 ,  88.08736 ,  87.32441 ,\n",
       "         86.48835 ,  85.7873  ,  85.15846 ,  84.5482  ,  84.22732 ],\n",
       "       [ 86.8207  ,  88.16089 ,  88.426895,  88.080215,  87.44061 ,\n",
       "         86.792564,  86.11958 ,  85.40568 ,  84.960884,  84.79299 ],\n",
       "       [ 86.6648  ,  88.00087 ,  88.37818 ,  88.17018 ,  87.73875 ,\n",
       "         87.12581 ,  86.367004,  85.82822 ,  85.53953 ,  85.35739 ],\n",
       "       [ 86.732994,  88.20289 ,  88.71078 ,  88.69024 ,  88.25349 ,\n",
       "         87.506355,  86.89394 ,  86.48295 ,  86.150215,  86.04138 ],\n",
       "       [ 86.83858 ,  88.443504,  89.164375,  89.15723 ,  88.59508 ,\n",
       "         88.01867 ,  87.54962 ,  87.09766 ,  86.84364 ,  86.70169 ],\n",
       "       [ 86.92645 ,  88.74695 ,  89.50158 ,  89.38879 ,  89.03733 ,\n",
       "         88.63677 ,  88.14303 ,  87.78674 ,  87.50639 ,  87.42853 ],\n",
       "       [ 87.103035,  88.95648 ,  89.614586,  89.74764 ,  89.60707 ,\n",
       "         89.20103 ,  88.82357 ,  88.44963 ,  88.24118 ,  88.2561  ],\n",
       "       [ 87.05203 ,  88.78596 ,  89.7215  ,  90.12254 ,  90.02698 ,\n",
       "         89.78952 ,  89.43032 ,  89.1589  ,  89.06433 ,  88.99514 ],\n",
       "       [ 86.95633 ,  88.97667 ,  90.19265 ,  90.6347  ,  90.703575,\n",
       "         90.46878 ,  90.19948 ,  90.02865 ,  89.831276,  89.51139 ],\n",
       "       [ 87.290184,  89.62588 ,  90.88644 ,  91.48308 ,  91.52698 ,\n",
       "         91.35546 ,  91.16004 ,  90.85412 ,  90.3769  ,  89.779396],\n",
       "       [ 87.44063 ,  89.78778 ,  91.25277 ,  91.91078 ,  92.11985 ,\n",
       "         92.11778 ,  91.85864 ,  91.324234,  90.60818 ,  90.06758 ],\n",
       "       [ 87.37969 ,  89.91229 ,  91.463554,  92.33435 ,  92.76702 ,\n",
       "         92.74053 ,  92.27764 ,  91.52268 ,  90.88519 ,  90.511246],\n",
       "       [ 87.590195,  90.22784 ,  91.99809 ,  93.09369 ,  93.486664,\n",
       "         93.2283  ,  92.51729 ,  91.82891 ,  91.349884,  90.919685],\n",
       "       [ 87.590195,  90.42047 ,  92.4517  ,  93.56699 ,  93.784645,\n",
       "         93.32828 ,  92.738   ,  92.25303 ,  91.743904,  91.268906],\n",
       "       [ 87.77618 ,  90.87671 ,  92.94155 ,  93.88194 ,  93.893616,\n",
       "         93.56176 ,  93.1816  ,  92.66271 ,  92.10479 ,  91.72388 ],\n",
       "       [ 87.94425 ,  91.06183 ,  92.97608 ,  93.75252 ,  93.94936 ,\n",
       "         93.89149 ,  93.52275 ,  92.98923 ,  92.55332 ,  92.07135 ],\n",
       "       [ 87.878815,  90.82287 ,  92.58467 ,  93.58794 ,  94.1202  ,\n",
       "         94.12581 ,  93.78433 ,  93.409   ,  92.89089 ,  92.33119 ],\n",
       "       [ 87.745705,  90.5401  ,  92.513115,  93.845055,  94.42835 ,\n",
       "         94.44425 ,  94.24916 ,  93.77289 ,  93.16239 ,  92.74551 ],\n",
       "       [ 87.66647 ,  90.68184 ,  92.979225,  94.34041 ,  94.89725 ,\n",
       "         95.02537 ,  94.68927 ,  94.08752 ,  93.600876,  93.421524],\n",
       "       [ 87.91684 ,  91.27896 ,  93.6156  ,  94.93771 ,  95.58886 ,\n",
       "         95.54631 ,  95.05674 ,  94.56343 ,  94.30376 ,  94.02354 ],\n",
       "       [ 88.12365 ,  91.50041 ,  93.83289 ,  95.32139 ,  95.879036,\n",
       "         95.75395 ,  95.44082 ,  95.23024 ,  94.90017 ,  94.29804 ],\n",
       "       [ 88.036575,  91.37628 ,  93.897064,  95.34841 ,  95.886856,\n",
       "         96.00708 ,  96.03981 ,  95.7964  ,  95.16373 ,  94.42225 ],\n",
       "       [ 88.04381 ,  91.57972 ,  94.06167 ,  95.47246 ,  96.23672 ,\n",
       "         96.69019 ,  96.66582 ,  96.089294,  95.298225,  94.47612 ],\n",
       "       [ 88.22491 ,  91.73265 ,  94.17816 ,  95.823044,  96.937935,\n",
       "         97.33817 ,  96.96978 ,  96.22874 ,  95.35409 ,  94.8612  ],\n",
       "       [ 88.1103  ,  91.55112 ,  94.24679 ,  96.300804,  97.42699 ,\n",
       "         97.5299  ,  97.03737 ,  96.24555 ,  95.73441 ,  95.65742 ],\n",
       "       [ 88.10303 ,  91.80271 ,  94.90626 ,  96.958534,  97.74761 ,\n",
       "         97.68397 ,  97.10618 ,  96.664215,  96.55874 ,  96.13806 ],\n",
       "       [ 88.3494  ,  92.463356,  95.58929 ,  97.30808 ,  97.92295 ,\n",
       "         97.767075,  97.54776 ,  97.51942 ,  97.055176,  96.66297 ],\n",
       "       [ 88.61271 ,  92.72759 ,  95.55888 ,  97.16652 ,  97.76637 ,\n",
       "         98.05809 ,  98.33246 ,  97.98408 ,  97.58309 ,  96.86965 ],\n",
       "       [ 88.48408 ,  92.27062 ,  95.00601 ,  96.65923 ,  97.79848 ,\n",
       "         98.68494 ,  98.70275 ,  98.47259 ,  97.77742 ,  96.848564],\n",
       "       [ 84.28569 ,  85.310646,  86.63159 ,  88.377785,  90.50297 ,\n",
       "         92.19443 ,  93.68935 ,  94.59037 ,  94.98655 ,  95.03668 ],\n",
       "       [ 84.78048 ,  85.84097 ,  87.47737 ,  89.60949 ,  91.40763 ,\n",
       "         93.05814 ,  94.133965,  94.69359 ,  94.879684,  94.9199  ],\n",
       "       [ 85.42294 ,  86.804955,  88.8205  ,  90.62852 ,  92.36765 ,\n",
       "         93.58147 ,  94.29235 ,  94.61915 ,  94.77716 ,  94.796616],\n",
       "       [ 86.25275 ,  87.98374 ,  89.69334 ,  91.46274 ,  92.800354,\n",
       "         93.67928 ,  94.1813  ,  94.49835 ,  94.64963 ,  94.75644 ],\n",
       "       [ 87.176125,  88.57912 ,  90.25383 ,  91.665596,  92.719604,\n",
       "         93.44015 ,  93.97735 ,  94.32633 ,  94.595184,  94.63297 ],\n",
       "       [ 87.414406,  88.74031 ,  90.08643 ,  91.26891 ,  92.22965 ,\n",
       "         93.050735,  93.682434,  94.20229 ,  94.4437  ,  95.07357 ],\n",
       "       [ 88.29733 ,  89.394394,  90.487434,  91.47239 ,  92.38811 ,\n",
       "         93.15189 ,  93.81387 ,  94.18958 ,  94.93399 ,  96.79498 ],\n",
       "       [ 88.885895,  89.733185,  90.63683 ,  91.58416 ,  92.452324,\n",
       "         93.25512 ,  93.78243 ,  94.66726 ,  96.652054, 100.11995 ],\n",
       "       [ 89.456085,  90.14379 ,  90.99968 ,  91.86723 ,  92.72862 ,\n",
       "         93.34985 ,  94.33823 ,  96.42573 ,  99.99283 , 103.441055],\n",
       "       [ 89.780846,  90.407936,  91.18709 ,  92.05861 ,  92.75727 ,\n",
       "         93.85296 ,  96.05967 ,  99.75263 , 103.32461 , 107.842636],\n",
       "       [ 89.948784,  90.48507 ,  91.26818 ,  91.99228 ,  93.17562 ,\n",
       "         95.504105,  99.34456 , 103.08024 , 107.74996 , 112.659035],\n",
       "       [ 90.22228 ,  90.789246,  91.42256 ,  92.5939  ,  94.96046 ,\n",
       "         98.881004, 102.73727 , 107.53989 , 112.577   , 117.473206],\n",
       "       [ 90.77475 ,  91.219826,  92.2811  ,  94.59073 ,  98.500404,\n",
       "        102.398285, 107.275475, 112.409035, 117.40334 , 118.32193 ],\n",
       "       [ 90.99711 ,  91.83918 ,  94.026276,  97.89389 , 101.840866,\n",
       "        106.82686 , 112.11138 , 117.26544 , 118.31104 , 117.02951 ],\n",
       "       [ 91.796776,  93.76928 ,  97.49693 , 101.391075, 106.39347 ,\n",
       "        111.75748 , 117.02988 , 118.19406 , 116.99991 , 115.409935],\n",
       "       [ 93.197365,  96.61336 , 100.39717 , 105.4445  , 110.99212 ,\n",
       "        116.53164 , 117.959076, 116.954834, 115.48202 , 112.85422 ],\n",
       "       [ 94.436424,  97.74957 , 102.77537 , 108.73178 , 114.978546,\n",
       "        117.162964, 116.73194 , 115.62621 , 113.18086 , 109.6011  ],\n",
       "       [ 94.203156,  98.53615 , 104.59957 , 111.671585, 115.06405 ,\n",
       "        115.71224 , 115.40039 , 113.433174, 110.06906 , 106.46707 ],\n",
       "       [ 95.827965, 101.30181 , 108.49337 , 112.61099 , 114.129295,\n",
       "        114.59028 , 113.18835 , 110.16031 , 106.727394, 104.66961 ],\n",
       "       [ 97.1505  , 103.64287 , 108.23309 , 110.80302 , 112.44236 ,\n",
       "        112.06931 , 109.76558 , 106.77592 , 105.0006  , 104.08894 ],\n",
       "       [ 98.37878 , 102.41964 , 105.561424, 108.36682 , 109.35027 ,\n",
       "        108.217995, 106.08122 , 104.914024, 104.424644, 105.516335],\n",
       "       [ 96.16016 ,  98.68437 , 101.97663 , 104.23448 , 104.611374,\n",
       "        103.818886, 103.733635, 104.088585, 105.828896, 107.774414],\n",
       "       [ 95.766266,  98.565094, 100.96475 , 101.89024 , 101.7753  ,\n",
       "        102.333664, 103.26974 , 105.506516, 107.83785 , 110.620476],\n",
       "       [ 96.230965,  98.240776,  99.286255,  99.566765, 100.601944,\n",
       "        102.04862 , 104.776115, 107.544586, 110.664795, 113.21546 ],\n",
       "       [ 95.882866,  96.61359 ,  97.01109 ,  98.35973 , 100.25933 ,\n",
       "        103.49692 , 106.792206, 110.377205, 113.27504 , 115.61424 ],\n",
       "       [ 95.900955,  96.08156 ,  97.360214,  99.3076  , 102.66786 ,\n",
       "        106.15245 , 109.95096 , 113.05231 , 115.5539  , 115.58407 ],\n",
       "       [ 95.98713 ,  97.05581 ,  98.88403 , 102.190155, 105.68962 ,\n",
       "        109.553955, 112.75552 , 115.36591 , 115.49124 , 114.01015 ],\n",
       "       [ 97.54416 ,  99.19263 , 102.32584 , 105.66947 , 109.410995,\n",
       "        112.53849 , 115.12449 , 115.2696  , 113.83067 , 112.457344],\n",
       "       [ 97.81554 , 100.604515, 103.93052 , 107.89452 , 111.40696 ,\n",
       "        114.427086, 114.95236 , 113.7793  , 112.57042 , 110.20862 ],\n",
       "       [ 98.76765 , 101.73433 , 105.733215, 109.600235, 113.145744,\n",
       "        114.21033 , 113.46201 , 112.54775 , 110.35327 , 107.84314 ],\n",
       "       [ 97.603134, 101.855   , 106.47694 , 111.007805, 113.02146 ,\n",
       "        112.97326 , 112.494   , 110.50226 , 108.04604 , 106.27832 ],\n",
       "       [ 98.06187 , 102.446785, 107.46342 , 110.43094 , 111.387   ,\n",
       "        111.754616, 110.36103 , 108.26954 , 106.70841 , 105.288864],\n",
       "       [ 97.82171 , 102.52224 , 106.12733 , 108.177   , 109.70242 ,\n",
       "        109.30546 , 107.93835 , 106.86628 , 105.74038 , 103.925156],\n",
       "       [ 98.149315, 101.54396 , 104.15098 , 106.608765, 107.25418 ,\n",
       "        106.7888  , 106.413864, 105.78053 , 104.25888 , 102.559715],\n",
       "       [ 96.69207 ,  99.065155, 102.02092 , 103.665794, 104.302124,\n",
       "        104.922485, 105.10277 , 104.160545, 102.82415 , 101.76383 ],\n",
       "       [ 96.92585 ,  99.7755  , 101.672905, 102.731705, 103.80942 ,\n",
       "        104.419   , 103.82505 , 102.73607 , 101.83704 , 100.50054 ],\n",
       "       [ 99.68393 , 101.62261 , 102.71483 , 103.81535 , 104.437294,\n",
       "        103.84682 , 102.75564 , 101.85139 , 100.50838 , 100.04816 ],\n",
       "       [102.28998 , 103.43648 , 104.48145 , 104.97988 , 104.23993 ,\n",
       "        103.009346, 101.988525, 100.556244, 100.02921 , 100.493805],\n",
       "       [104.98875 , 106.07526 , 106.38081 , 105.33264 , 103.784325,\n",
       "        102.48149 , 100.819016, 100.11115 , 100.43543 , 101.68892 ],\n",
       "       [109.722466, 109.946465, 108.33478 , 106.08294 , 104.10162 ,\n",
       "        101.84746 , 100.65113 , 100.57016 , 101.49712 , 102.94132 ],\n",
       "       [113.50396 , 111.6682  , 108.84604 , 106.21727 , 103.347725,\n",
       "        101.61934 , 101.07303 , 101.59195 , 102.705315, 104.37377 ],\n",
       "       [116.20097 , 112.99103 , 109.62987 , 105.956345, 103.49497 ,\n",
       "        102.28475 , 102.191895, 102.76247 , 103.989586, 104.596436],\n",
       "       [115.37542 , 111.80153 , 107.74475 , 104.88657 , 103.29539 ,\n",
       "        102.83597 , 103.0606  , 103.97825 , 104.35387 , 104.623695],\n",
       "       [113.66506 , 109.441025, 106.31302 , 104.423515, 103.657684,\n",
       "        103.57683 , 104.20323 , 104.335365, 104.42536 , 104.77069 ],\n",
       "       [111.40402 , 108.13863 , 105.98371 , 104.89923 , 104.47524 ,\n",
       "        104.75644 , 104.57662 , 104.41298 , 104.57015 , 104.761284],\n",
       "       [109.80523 , 107.55373 , 106.2476  , 105.539406, 105.51054 ,\n",
       "        105.02786 , 104.59875 , 104.53805 , 104.568214, 104.22921 ],\n",
       "       [107.239426, 105.93314 , 105.26835 , 105.300545, 104.878525,\n",
       "        104.49931 , 104.47422 , 104.52428 , 104.19017 , 104.2887  ],\n",
       "       [104.8676  , 104.1992  , 104.35828 , 104.1284  , 103.94912 ,\n",
       "        104.104744, 104.30182 , 104.07082 , 104.230484, 104.44087 ],\n",
       "       [103.90252 , 104.06452 , 103.87974 , 103.75574 , 103.96107 ,\n",
       "        104.194466, 103.9836  , 104.14789 , 104.35089 , 105.1665  ],\n",
       "       [104.25805 , 104.081116, 103.94633 , 104.11742 , 104.293106,\n",
       "        104.00929 , 104.09418 , 104.21972 , 104.96277 , 105.755424],\n",
       "       [105.62909 , 105.49573 , 105.488235, 105.37102 , 104.74445 ,\n",
       "        104.490685, 104.308495, 104.78642 , 105.37499 , 106.1039  ],\n",
       "       [108.15216 , 108.098976, 107.60106 , 106.4313  , 105.606445,\n",
       "        104.883415, 104.87905 , 105.07139 , 105.50719 , 105.61539 ],\n",
       "       [111.12948 , 110.502846, 108.85258 , 107.436035, 106.11241 ,\n",
       "        105.55185 , 105.26085 , 105.307175, 105.14525 , 105.86512 ],\n",
       "       [112.98939 , 111.17289 , 109.35643 , 107.55087 , 106.50957 ,\n",
       "        105.77315 , 105.43325 , 104.96986 , 105.46073 , 106.41287 ],\n",
       "       [114.19822 , 112.15049 , 109.841515, 108.220215, 106.905014,\n",
       "        106.03452 , 105.12496 , 105.24462 , 105.91477 , 107.15381 ],\n",
       "       [113.76948 , 111.33842 , 109.459465, 107.83791 , 106.66182 ,\n",
       "        105.47607 , 105.35113 , 105.81484 , 106.89278 , 107.1186  ],\n",
       "       [111.658676, 109.78057 , 108.121864, 106.89226 , 105.64768 ,\n",
       "        105.46487 , 105.873276, 106.90091 , 107.08839 , 106.5074  ],\n",
       "       [110.780136, 109.08852 , 107.72736 , 106.30974 , 105.94641 ,\n",
       "        106.17623 , 107.037575, 107.09254 , 106.42413 , 106.509346],\n",
       "       [108.40396 , 107.083336, 105.767784, 105.525764, 105.88187 ,\n",
       "        106.862144, 107.01281 , 106.40794 , 106.529755, 107.02133 ],\n",
       "       [106.38257 , 105.091995, 104.93767 , 105.41429 , 106.52496 ,\n",
       "        106.79535 , 106.28192 , 106.466034, 106.99265 , 108.41479 ]],\n",
       "      dtype=float32)"
      ]
     },
     "execution_count": 27,
     "metadata": {},
     "output_type": "execute_result"
    }
   ],
   "source": [
    "y_predict_ini = mms.inverse_transform(y_predict_ini)\n",
    "y_predict_ini"
   ]
  },
  {
   "cell_type": "code",
   "execution_count": 28,
   "id": "211aadb9",
   "metadata": {},
   "outputs": [
    {
     "data": {
      "text/plain": [
       "(80, 1)"
      ]
     },
     "execution_count": 28,
     "metadata": {},
     "output_type": "execute_result"
    }
   ],
   "source": [
    "y_test = []\n",
    "for i in range(0, test_dataset_length - timestep):\n",
    "    y_test = np.append(y_test, y_predict_ini[i, timestep-1])\n",
    "\n",
    "# reshaping\n",
    "y_test = np.reshape(y_test, (y_test.shape[0], 1))\n",
    "y_test.shape"
   ]
  },
  {
   "cell_type": "code",
   "execution_count": 29,
   "id": "62a3b0ad",
   "metadata": {},
   "outputs": [
    {
     "data": {
      "text/plain": [
       "numpy.ndarray"
      ]
     },
     "execution_count": 29,
     "metadata": {},
     "output_type": "execute_result"
    }
   ],
   "source": [
    "type(y_test[0:len(y_test) - timestep])"
   ]
  },
  {
   "cell_type": "code",
   "execution_count": 30,
   "id": "119aba09",
   "metadata": {},
   "outputs": [
    {
     "data": {
      "image/png": "[encoded data removed]",
      "text/plain": [
       "<Figure size 1080x720 with 1 Axes>"
      ]
     },
     "metadata": {
      "needs_background": "light"
     },
     "output_type": "display_data"
    }
   ],
   "source": [
    "plt.plot(np.float64(test_dataset_v[timestep-3:len(y_test)-3]), color = 'red', label = 'Real Crude Oil Prices')\n",
    "plt.plot(y_test[0:len(y_test) - timestep], color = 'blue', label = 'Predicted Crude Oil Prices')\n",
    "plt.title('Crude Oil Prices Prediction - MAE')\n",
    "plt.xlabel('Time')\n",
    "plt.ylabel('Crude Oil Prices')\n",
    "plt.legend()\n",
    "plt.show()"
   ]
  },
  {
   "cell_type": "code",
   "execution_count": null,
   "id": "6f64a924",
   "metadata": {},
   "outputs": [],
   "source": []
  }
 ],
 "metadata": {
  "kernelspec": {
   "display_name": "Python [conda env:news-crawler]",
   "language": "python",
   "name": "conda-env-news-crawler-py"
  },
  "language_info": {
   "codemirror_mode": {
    "name": "ipython",
    "version": 3
   },
   "file_extension": ".py",
   "mimetype": "text/x-python",
   "name": "python",
   "nbconvert_exporter": "python",
   "pygments_lexer": "ipython3",
   "version": "3.9.12"
  }
 },
 "nbformat": 4,
 "nbformat_minor": 5
}
